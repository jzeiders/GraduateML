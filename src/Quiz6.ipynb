{
 "cells": [
  {
   "cell_type": "code",
   "execution_count": null,
   "metadata": {},
   "outputs": [],
   "source": [
    "# HOT TAMALE\n",
    "# AI GOT EVERYTHING EXCEPT 11 & 14 (JK IT DID GET 14)\n",
    "# 11 is 5"
   ]
  }
 ],
 "metadata": {
  "language_info": {
   "name": "python"
  }
 },
 "nbformat": 4,
 "nbformat_minor": 2
}
