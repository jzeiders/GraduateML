{
 "cells": [
  {
   "cell_type": "code",
   "execution_count": 2,
   "metadata": {},
   "outputs": [],
   "source": [
    "import pandas as pd\n",
    "import numpy as np"
   ]
  },
  {
   "cell_type": "code",
   "execution_count": 28,
   "metadata": {},
   "outputs": [
    {
     "name": "stderr",
     "output_type": "stream",
     "text": [
      "/var/folders/fc/z903c2bn73s9_l02mz68j63h0000gn/T/ipykernel_41520/497048028.py:2: FutureWarning: The 'delim_whitespace' keyword in pd.read_csv is deprecated and will be removed in a future version. Use ``sep='\\s+'`` instead\n",
      "  test_df = pd.read_csv('https://liangfgithub.github.io/Data/zip.test', header=None, delim_whitespace=True)\n",
      "/var/folders/fc/z903c2bn73s9_l02mz68j63h0000gn/T/ipykernel_41520/497048028.py:3: FutureWarning: The 'delim_whitespace' keyword in pd.read_csv is deprecated and will be removed in a future version. Use ``sep='\\s+'`` instead\n",
      "  train_df = pd.read_csv('https://liangfgithub.github.io/Data/zip.train', header=None, delim_whitespace=True)\n"
     ]
    }
   ],
   "source": [
    "# Problem 5\n",
    "test_df = pd.read_csv('https://liangfgithub.github.io/Data/zip.test', header=None, delim_whitespace=True)\n",
    "train_df = pd.read_csv('https://liangfgithub.github.io/Data/zip.train', header=None, delim_whitespace=True)"
   ]
  },
  {
   "cell_type": "code",
   "execution_count": 29,
   "metadata": {},
   "outputs": [
    {
     "name": "stdout",
     "output_type": "stream",
     "text": [
      "(2007, 257)\n",
      "(7291, 257)\n"
     ]
    }
   ],
   "source": []
  },
  {
   "cell_type": "code",
   "execution_count": 30,
   "metadata": {},
   "outputs": [
    {
     "name": "stdout",
     "output_type": "stream",
     "text": [
      "[A] Number of images for digit '4' in zip.test: 200\n",
      "[B] Number of correctly classified '4' images: 174\n",
      "[C] Total images classified as '4': 221\n",
      "[D] Number of misclassified images classified as '4': 47\n",
      "[E] The label of the 4th image in zip.test: 6\n",
      "[F] The most probable digit for the 4th image: 0\n",
      "[G] The second most probable digit for the 4th image: 6\n"
     ]
    }
   ],
   "source": [
    "from sklearn.discriminant_analysis import LinearDiscriminantAnalysis\n",
    "\n",
    "\n",
    "# Separate features and labels\n",
    "X_train = train_df.iloc[:, 1:].fillna(0)\n",
    "y_train = train_df.iloc[:, 0]\n",
    "\n",
    "X_test = test_df.iloc[:, 1:].fillna(0)\n",
    "y_test = test_df.iloc[:, 0]\n",
    "\n",
    "# Impute the missing values\n",
    "\n",
    "# Initialize and fit the LDA model\n",
    "lda = LinearDiscriminantAnalysis()\n",
    "lda.fit(X_train, y_train)\n",
    "\n",
    "# Train LDA classifier\n",
    "lda = LinearDiscriminantAnalysis()\n",
    "lda.fit(X_train, y_train)\n",
    "\n",
    "# Predictions\n",
    "y_pred = lda.predict(X_test)\n",
    "y_prob = lda.predict_proba(X_test)\n",
    "\n",
    "# Calculate [A]\n",
    "A = np.sum(y_test == 4)\n",
    "\n",
    "# Calculate [B]\n",
    "B = np.sum((y_test == 4) & (y_pred == 4))\n",
    "\n",
    "# Calculate [C]\n",
    "C = np.sum(y_pred == 4)\n",
    "\n",
    "# Calculate [D]\n",
    "D = C - B\n",
    "\n",
    "# Calculate [E]\n",
    "E = y_test[3]\n",
    "\n",
    "# Calculate [F] and [G]\n",
    "probabilities = y_prob[3]\n",
    "sorted_indices = np.argsort(probabilities)[::-1]\n",
    "F = sorted_indices[0]\n",
    "G = sorted_indices[1]\n",
    "\n",
    "# Print results\n",
    "print(f\"[A] Number of images for digit '4' in zip.test: {A}\")\n",
    "print(f\"[B] Number of correctly classified '4' images: {B}\")\n",
    "print(f\"[C] Total images classified as '4': {C}\")\n",
    "print(f\"[D] Number of misclassified images classified as '4': {D}\")\n",
    "print(f\"[E] The label of the 4th image in zip.test: {E}\")\n",
    "print(f\"[F] The most probable digit for the 4th image: {F}\")\n",
    "print(f\"[G] The second most probable digit for the 4th image: {G}\")\n"
   ]
  },
  {
   "cell_type": "markdown",
   "metadata": {},
   "source": [
    "# Problem 1\n",
    "Option 3\n",
    "# Problem 2\n",
    "# Problem 3\n",
    "# Problem 4\n"
   ]
  }
 ],
 "metadata": {
  "kernelspec": {
   "display_name": "python-3.11",
   "language": "python",
   "name": "python3"
  },
  "language_info": {
   "codemirror_mode": {
    "name": "ipython",
    "version": 3
   },
   "file_extension": ".py",
   "mimetype": "text/x-python",
   "name": "python",
   "nbconvert_exporter": "python",
   "pygments_lexer": "ipython3",
   "version": "3.11.7"
  }
 },
 "nbformat": 4,
 "nbformat_minor": 2
}
