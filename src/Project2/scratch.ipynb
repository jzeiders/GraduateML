{
 "cells": [
  {
   "cell_type": "code",
   "execution_count": 10,
   "metadata": {},
   "outputs": [],
   "source": [
    "import pandas as pd\n",
    "import pandas as pd\n",
    "import matplotlib.pyplot as plt\n",
    "import seaborn as sns\n",
    "import numpy as np"
   ]
  },
  {
   "cell_type": "code",
   "execution_count": 19,
   "metadata": {},
   "outputs": [
    {
     "name": "stdout",
     "output_type": "stream",
     "text": [
      "Straight Error\n",
      "104.92506713113343\n"
     ]
    },
    {
     "data": {
      "text/plain": [
       "np.float64(160.60243711725067)"
      ]
     },
     "execution_count": 19,
     "metadata": {},
     "output_type": "execute_result"
    }
   ],
   "source": [
    "pred_path = \"/Users/jzeiders/Documents/Code/Learnings/GraduateML/src/Project2/data/fold_1/mypred.csv\"\n",
    "pred_data = pd.read_csv(pred_path)\n",
    "\n",
    "test_path = \"/Users/jzeiders/Documents/Code/Learnings/GraduateML/src/Project2/data/test_with_label.csv\"\n",
    "test_data = pd.read_csv(test_path)\n",
    "\n",
    "\n",
    "# Merge the predictions with the test data\n",
    "data = pd.merge(test_data, pred_data, on=['Store', 'Dept', 'Date', 'IsHoliday'], how='left')\n",
    "weights = np.where(data['IsHoliday'], 5, 1)\n",
    "error = data['Weekly_Sales'] - data['Weekly_Pred']\n",
    "\n",
    "\n",
    "\n",
    "# Straight Error\n",
    "print(\"Straight Error\")\n",
    "print(np.mean(error))\n",
    "np.sum(weights * np.abs(error)) / np.sum(weights)\n",
    "\n",
    "\n"
   ]
  },
  {
   "cell_type": "code",
   "execution_count": 13,
   "metadata": {},
   "outputs": [
    {
     "name": "stdout",
     "output_type": "stream",
     "text": [
      "\n",
      "Top 5 Days with Largest Absolute Error:\n",
      " Store  Dept       Date  IsHoliday  Weekly_Sales   Weekly_Pred         error     abs_error  error_percentage\n",
      "    10    72 2011-12-16      False     158010.38 276438.352562 118427.972562 118427.972562             74.95\n",
      "    10    72 2011-12-23      False     296628.29 400859.996158 104231.706158 104231.706158             35.14\n",
      "    14     7 2011-12-23      False     260735.86 351888.138419  91152.278419  91152.278419             34.96\n",
      "    14    72 2011-11-25       True     375948.31 465517.902684  89569.592684  89569.592684             23.82\n",
      "    20    72 2011-12-23      False     215373.51 298475.711196  83102.201196  83102.201196             38.59\n",
      "    28     7 2011-12-23      False     158379.94 231160.572683  72780.632683  72780.632683             45.95\n",
      "    10     5 2011-12-23      False     177554.72 250292.321062  72737.601062  72737.601062             40.97\n",
      "    14    72 2011-11-04      False     148601.69  83024.771165  65576.918835  65576.918835             44.13\n",
      "    21     7 2011-12-23      False     172052.78 236977.610337  64924.830337  64924.830337             37.74\n",
      "    10     5 2011-12-16      False     112787.47 176299.449976  63511.979976  63511.979976             56.31\n",
      "    12     7 2011-12-23      False     206594.40 269974.751605  63380.351605  63380.351605             30.68\n",
      "    10     7 2011-12-23      False     341308.00 403978.610072  62670.610072  62670.610072             18.36\n",
      "    20    72 2011-11-04      False     154790.86  93083.929728  61706.930272  61706.930272             39.86\n",
      "    27    72 2011-12-23      False     155100.89 216714.973889  61614.083889  61614.083889             39.73\n",
      "    10    72 2011-12-02      False     156039.04 217400.834826  61361.794826  61361.794826             39.32\n",
      "    13     5 2011-12-09      False      92192.72 153517.827791  61325.107791  61325.107791             66.52\n",
      "    35    72 2011-12-30       True     112986.02  51846.913467  61139.106533  61139.106533             54.11\n",
      "    14    72 2011-12-16      False     133840.31 193663.760040  59823.450040  59823.450040             44.70\n",
      "    19    72 2011-12-02      False      82621.80 142335.161855  59713.361855  59713.361855             72.27\n",
      "    13     5 2011-12-23      False     161783.03 220631.009192  58847.979192  58847.979192             36.37\n"
     ]
    }
   ],
   "source": []
  }
 ],
 "metadata": {
  "kernelspec": {
   "display_name": "python-3.11",
   "language": "python",
   "name": "python3"
  },
  "language_info": {
   "codemirror_mode": {
    "name": "ipython",
    "version": 3
   },
   "file_extension": ".py",
   "mimetype": "text/x-python",
   "name": "python",
   "nbconvert_exporter": "python",
   "pygments_lexer": "ipython3",
   "version": "3.11.7"
  }
 },
 "nbformat": 4,
 "nbformat_minor": 2
}
