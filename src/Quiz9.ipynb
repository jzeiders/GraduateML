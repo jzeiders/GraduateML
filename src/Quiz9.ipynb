{
 "cells": [
  {
   "cell_type": "code",
   "execution_count": null,
   "metadata": {},
   "outputs": [],
   "source": []
  },
  {
   "cell_type": "markdown",
   "metadata": {},
   "source": [
    "Decrease sigma; Decrease C.\n",
    "Use a logistic regression model including additional quadratic features; Use an SVM with a Gaussian kernel.\n",
    "​\n",
    "-2\n",
    "2\n",
    "The maximum value of a Gaussian kernel is 1.**;45 1-1"
   ]
  }
 ],
 "metadata": {
  "language_info": {
   "name": "python"
  }
 },
 "nbformat": 4,
 "nbformat_minor": 2
}
