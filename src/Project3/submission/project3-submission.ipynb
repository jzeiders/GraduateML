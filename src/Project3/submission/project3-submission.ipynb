{
 "cells": [
  {
   "cell_type": "markdown",
   "metadata": {},
   "source": [
    "# John Zeiders (jzeiders) - Project 3 Submission"
   ]
  },
  {
   "cell_type": "code",
   "execution_count": null,
   "metadata": {},
   "outputs": [],
   "source": []
  },
  {
   "cell_type": "markdown",
   "metadata": {},
   "source": [
    "Section 1:\n",
    "I'll help you analyze the sentiment classification implementation and create a comprehensive report.\n",
    "\n",
    "# Sentiment Classification Model Technical Details\n",
    "\n",
    "## Implementation Overview\n",
    "The implementation uses a Logistic Regression model with carefully tuned hyperparameters for sentiment classification. Here are the key technical aspects:\n",
    "\n",
    "### Data Preprocessing\n",
    "- Features are preprocessed by dropping the 'id' and 'review' columns, retaining only the numerical feature columns\n",
    "- The target variable 'sentiment' is separated from the features\n",
    "- Data is loaded using Polars for efficient memory management and fast I/O operations\n",
    "\n",
    "### Model Architecture\n",
    "- Algorithm: Logistic Regression\n",
    "- Solver: 'liblinear' (efficient for smaller datasets)\n",
    "- Hyperparameters:\n",
    "  - C=10 (inverse of regularization strength)\n",
    "  - max_iter=1000 (maximum iterations for convergence)\n",
    "  - random_state=42 (for reproducibility)\n",
    "\n",
    "### Training Process\n",
    "- The model is trained independently on 5 different data splits\n",
    "- Each split's training process is isolated to ensure proper validation\n",
    "- Grid search capability is included but not used in the final results (configured for C values: [0.01, 0.1, 1, 10, 100])\n",
    "\n",
    "### Performance Metrics\n",
    "\n",
    "Here's a detailed breakdown of the performance across all splits:\n",
    "\n",
    "| Split | AUC Score | Training Time (s) | Inference Time (s) |\n",
    "|-------|-----------|-------------------|-------------------|\n",
    "| 1     | 0.987113  | 6.27             | 0.10             |\n",
    "| 2     | 0.986805  | 6.76             | 0.09             |\n",
    "| 3     | 0.986430  | 7.51             | 0.17             |\n",
    "| 4     | 0.986983  | 6.17             | 0.07             |\n",
    "| 5     | 0.986284  | 7.77             | 0.10             |\n",
    "\n",
    "### System Specifications\n",
    "- Hardware: MacBook Pro with Apple M2 Max\n",
    "- Memory: 32GB\n",
    "- Total Training Time: 34.48 seconds\n",
    "- Average Training Time per Split: 6.90 seconds\n",
    "- Total Inference Time: 0.52 seconds\n",
    "- Average Inference Time per Split: 0.10 seconds\n"
   ]
  },
  {
   "cell_type": "markdown",
   "metadata": {},
   "source": [
    "# Section 2"
   ]
  },
  {
   "cell_type": "code",
   "execution_count": null,
   "metadata": {},
   "outputs": [],
   "source": []
  }
 ],
 "metadata": {
  "kernelspec": {
   "display_name": "python-3.11",
   "language": "python",
   "name": "python3"
  },
  "language_info": {
   "name": "python",
   "version": "3.11.7"
  }
 },
 "nbformat": 4,
 "nbformat_minor": 2
}
